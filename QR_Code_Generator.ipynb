{
  "nbformat": 4,
  "nbformat_minor": 0,
  "metadata": {
    "colab": {
      "provenance": [],
      "authorship_tag": "ABX9TyNhaNkZhpbsm0l6oBgvomZ1"
    },
    "kernelspec": {
      "name": "python3",
      "display_name": "Python 3"
    },
    "language_info": {
      "name": "python"
    }
  },
  "cells": [
    {
      "cell_type": "code",
      "execution_count": null,
      "metadata": {
        "id": "9ghyN-1KVJzv"
      },
      "outputs": [],
      "source": [
        "# Method 1\n",
        "pip install pyqrcode"
      ]
    },
    {
      "cell_type": "code",
      "source": [
        "pip install pypng"
      ],
      "metadata": {
        "id": "s7SWM6EeVYFE"
      },
      "execution_count": null,
      "outputs": []
    },
    {
      "cell_type": "code",
      "source": [
        "pip install Pillow"
      ],
      "metadata": {
        "id": "Oob6AF53WK2e"
      },
      "execution_count": null,
      "outputs": []
    },
    {
      "cell_type": "code",
      "source": [
        "\n",
        "import pyqrcode as pyqr\n",
        "import png\n",
        "from PIL import Image\n",
        "\n",
        "#Creating QR Code\n",
        "url = pyqr.create(\"https://www.youtube.com/\")\n",
        "\n",
        "# Saving the Image\n",
        "img1 = \"PyQR.png\"\n",
        "url.png(img1, scale=5)\n",
        "\n",
        "# Displaying the QR\n",
        "im = Image.open(img1)\n",
        "\n",
        "im"
      ],
      "metadata": {
        "colab": {
          "base_uri": "https://localhost:8080/",
          "height": 202
        },
        "id": "iyffbgEZWOwn",
        "outputId": "d6e658e5-cd91-4791-f9f2-7093182846ea"
      },
      "execution_count": 32,
      "outputs": [
        {
          "output_type": "execute_result",
          "data": {
            "text/plain": [
              "<PIL.PngImagePlugin.PngImageFile image mode=1 size=185x185 at 0x7F5A6AF7A8E0>"
            ],
            "image/png": "[encoded data removed]"
          },
          "metadata": {},
          "execution_count": 32
        }
      ]
    },
    {
      "cell_type": "code",
      "source": [
        "# Method 2\n",
        "pip install qrcode"
      ],
      "metadata": {
        "id": "eJ9NjHwyWXZH"
      },
      "execution_count": null,
      "outputs": []
    },
    {
      "cell_type": "code",
      "source": [
        "import qrcode as qr\n",
        "\n",
        "img = qr.make(\"https://timesofindia.indiatimes.com/\")\n",
        "img.save(\"QR.png\")  # QR code gets saved in Colab Folder\n"
      ],
      "metadata": {
        "id": "7nV5HHJZXOU1"
      },
      "execution_count": 33,
      "outputs": []
    },
    {
      "cell_type": "code",
      "source": [],
      "metadata": {
        "id": "8y8Pj6btZAW8"
      },
      "execution_count": null,
      "outputs": []
    }
  ]
}